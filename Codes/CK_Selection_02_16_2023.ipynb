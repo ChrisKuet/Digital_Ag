{
 "cells": [
  {
   "cell_type": "markdown",
   "id": "2f735110",
   "metadata": {},
   "source": [
    "## Digital Agriculture Homework 3"
   ]
  },
  {
   "cell_type": "markdown",
   "id": "63bc7c4f",
   "metadata": {},
   "source": [
    "### Step Forward Feature Selection: A Practical Example in Python\n",
    "#### Implementing Feature Selection and Building a Model"
   ]
  },
  {
   "cell_type": "markdown",
   "id": "4c63d412",
   "metadata": {},
   "source": [
    "##### 1. Importing libraries and renaming them"
   ]
  },
  {
   "cell_type": "code",
   "execution_count": 1,
   "id": "0026ae25",
   "metadata": {},
   "outputs": [],
   "source": [
    "# Importing libraries and renaming them\n",
    "import numpy as np\n",
    "import pandas as pd\n",
    "from sklearn.ensemble import RandomForestClassifier\n",
    "from sklearn.model_selection import train_test_split\n",
    "from sklearn.metrics import accuracy_score as acc\n",
    "from mlxtend.feature_selection import SequentialFeatureSelector as sfs\n",
    "import os"
   ]
  },
  {
   "cell_type": "markdown",
   "id": "75ef3e1d",
   "metadata": {},
   "source": [
    "##### 2. Specifying the data path and reading the data"
   ]
  },
  {
   "cell_type": "code",
   "execution_count": 2,
   "id": "e634fa37",
   "metadata": {},
   "outputs": [],
   "source": [
    "# Read data\n",
    "npath=os.path.abspath(os.pardir)+\"\\\\Data\\winequality-white.csv\"\n",
    "df1=pd.read_csv(npath,sep=';')"
   ]
  },
  {
   "cell_type": "markdown",
   "id": "86c769c1",
   "metadata": {},
   "source": [
    "##### 3. Summary statistics of the data and saving it as a csv file"
   ]
  },
  {
   "cell_type": "code",
   "execution_count": 3,
   "id": "a9e3ab31",
   "metadata": {},
   "outputs": [],
   "source": [
    "df2=df1.describe()\n",
    "dpath=os.path.abspath(os.pardir)+\"\\\\Results\\CK_Description_02_16_2023.csv\"\n",
    "df2.to_csv(dpath)"
   ]
  },
  {
   "cell_type": "markdown",
   "id": "bd6d4062",
   "metadata": {},
   "source": [
    "##### 4. Splitting the data into Training and Test data (75%/25%)"
   ]
  },
  {
   "cell_type": "code",
   "execution_count": 4,
   "id": "a63ac2ed",
   "metadata": {},
   "outputs": [],
   "source": [
    "# Train/test split\n",
    "X_train, X_test, y_train, y_test = train_test_split(\n",
    "    df1.values[:,:-1],\n",
    "    df1.values[:,-1:],\n",
    "    test_size=0.25,\n",
    "    random_state=42)\n",
    "\n",
    "y_train = y_train.ravel()\n",
    "y_test = y_test.ravel()"
   ]
  },
  {
   "cell_type": "markdown",
   "id": "cc2dcb90",
   "metadata": {},
   "source": [
    "##### 5. Printing the dimension of the Training and Test data"
   ]
  },
  {
   "cell_type": "code",
   "execution_count": 5,
   "id": "a7ba7b06",
   "metadata": {},
   "outputs": [
    {
     "name": "stdout",
     "output_type": "stream",
     "text": [
      "Training dataset shape: (3673, 11) (3673,)\n",
      "Testing dataset shape: (1225, 11) (1225,)\n"
     ]
    }
   ],
   "source": [
    "print('Training dataset shape:', X_train.shape, y_train.shape)\n",
    "print('Testing dataset shape:', X_test.shape, y_test.shape)"
   ]
  },
  {
   "cell_type": "markdown",
   "id": "55d6ed7d",
   "metadata": {},
   "source": [
    "##### 6. Building a Random Forest classifier to use in feature selection (Best 5 features)"
   ]
  },
  {
   "cell_type": "code",
   "execution_count": null,
   "id": "746f54b5",
   "metadata": {},
   "outputs": [
    {
     "name": "stderr",
     "output_type": "stream",
     "text": [
      "[Parallel(n_jobs=1)]: Using backend SequentialBackend with 1 concurrent workers.\n",
      "[Parallel(n_jobs=1)]: Done   1 out of   1 | elapsed:   23.6s remaining:    0.0s\n",
      "[Parallel(n_jobs=1)]: Done  11 out of  11 | elapsed:  1.3min finished\n",
      "\n",
      "[2023-02-17 14:32:58] Features: 1/5 -- score: 0.4935958034439934[Parallel(n_jobs=1)]: Using backend SequentialBackend with 1 concurrent workers.\n",
      "[Parallel(n_jobs=1)]: Done   1 out of   1 | elapsed:    7.4s remaining:    0.0s\n",
      "[Parallel(n_jobs=1)]: Done  10 out of  10 | elapsed:  1.4min finished\n",
      "\n",
      "[2023-02-17 14:34:22] Features: 2/5 -- score: 0.5417972529611299[Parallel(n_jobs=1)]: Using backend SequentialBackend with 1 concurrent workers.\n",
      "[Parallel(n_jobs=1)]: Done   1 out of   1 | elapsed:    9.2s remaining:    0.0s\n",
      "[Parallel(n_jobs=1)]: Done   9 out of   9 | elapsed:  1.5min finished\n",
      "\n",
      "[2023-02-17 14:35:51] Features: 3/5 -- score: 0.6082196148214054[Parallel(n_jobs=1)]: Using backend SequentialBackend with 1 concurrent workers.\n",
      "[Parallel(n_jobs=1)]: Done   1 out of   1 | elapsed:   10.3s remaining:    0.0s\n",
      "[Parallel(n_jobs=1)]: Done   8 out of   8 | elapsed:  1.5min finished\n",
      "\n",
      "[2023-02-17 14:37:23] Features: 4/5 -- score: 0.6259144747817383[Parallel(n_jobs=1)]: Using backend SequentialBackend with 1 concurrent workers.\n",
      "[Parallel(n_jobs=1)]: Done   1 out of   1 | elapsed:   14.1s remaining:    0.0s\n"
     ]
    }
   ],
   "source": [
    "# Build RF classifier to use in feature selection\n",
    "clf = RandomForestClassifier(n_estimators=100, n_jobs=-1)\n",
    "\n",
    "# Build step forward feature selection for 5 features\n",
    "sfs1 = sfs(clf,\n",
    "           k_features=5, #subset of features to be selected\n",
    "           forward=True,\n",
    "           floating=False,\n",
    "           verbose=2,\n",
    "           scoring='accuracy', #metric for selecting best subset\n",
    "           cv=5) #5-fold cross validation\n",
    "\n",
    "# Perform SFFS\n",
    "sfs1 = sfs1.fit(X_train, y_train)"
   ]
  },
  {
   "cell_type": "markdown",
   "id": "a24b58a1",
   "metadata": {},
   "source": [
    "##### 7. Checking the 5 features selected"
   ]
  },
  {
   "cell_type": "code",
   "execution_count": null,
   "id": "d295270f",
   "metadata": {},
   "outputs": [],
   "source": [
    "# Which features?\n",
    "feat_cols_5 = list(sfs1.k_feature_idx_)\n",
    "print(feat_cols_5)"
   ]
  },
  {
   "cell_type": "markdown",
   "id": "da5ec031",
   "metadata": {},
   "source": [
    "The output indicates that index of the best 5 features selected"
   ]
  },
  {
   "cell_type": "markdown",
   "id": "afb18126",
   "metadata": {},
   "source": [
    "##### 8. Building a Random Forest model using the 5 selected features"
   ]
  },
  {
   "cell_type": "code",
   "execution_count": null,
   "id": "8df11451",
   "metadata": {},
   "outputs": [],
   "source": [
    "# Build full model with the 5 selected features\n",
    "clf = RandomForestClassifier(n_estimators=1000, random_state=42, max_depth=4)\n",
    "clf.fit(X_train[:, feat_cols_5], y_train)\n",
    "\n",
    "y_train_pred = clf.predict(X_train[:, feat_cols_5])\n",
    "print('Training accuracy on the 5 selected features: %.3f' % acc(y_train, y_train_pred))\n",
    "\n",
    "y_test_pred = clf.predict(X_test[:, feat_cols_5])\n",
    "print('Testing accuracy on the 5 selected features: %.3f' % acc(y_test, y_test_pred))"
   ]
  },
  {
   "cell_type": "markdown",
   "id": "5942021e",
   "metadata": {},
   "source": [
    "##### 9. Building a Random Forest classifier to use in feature selection (Best 6 features)"
   ]
  },
  {
   "cell_type": "code",
   "execution_count": null,
   "id": "87e2defa",
   "metadata": {},
   "outputs": [],
   "source": [
    "# Build step forward feature selection for 6 features\n",
    "sfs2 = sfs(clf,\n",
    "           k_features=6, #subset of features to be selected\n",
    "           forward=True,\n",
    "           floating=False,\n",
    "           verbose=2,\n",
    "           scoring='accuracy', #metric for selecting best subset\n",
    "           cv=5) #5-fold cross validation\n",
    "\n",
    "# Perform SFFS\n",
    "sfs2 = sfs2.fit(X_train, y_train)"
   ]
  },
  {
   "cell_type": "markdown",
   "id": "65b32dbc",
   "metadata": {},
   "source": [
    "##### 10. Checking the 6 selected features"
   ]
  },
  {
   "cell_type": "code",
   "execution_count": null,
   "id": "1da890f9",
   "metadata": {},
   "outputs": [],
   "source": [
    "# Which features?\n",
    "feat_cols_6 = list(sfs2.k_feature_idx_)\n",
    "print(feat_cols_6)"
   ]
  },
  {
   "cell_type": "markdown",
   "id": "0ec3523c",
   "metadata": {},
   "source": [
    "The output indicates that index of the best 6 features selected"
   ]
  },
  {
   "cell_type": "markdown",
   "id": "1d7d1967",
   "metadata": {},
   "source": [
    "##### 11. Building a Random Forest model using the 6 selected features"
   ]
  },
  {
   "cell_type": "code",
   "execution_count": null,
   "id": "734d4d41",
   "metadata": {},
   "outputs": [],
   "source": [
    "# Build full model with the 6 selected features\n",
    "clf = RandomForestClassifier(n_estimators=1000, random_state=42, max_depth=4)\n",
    "clf.fit(X_train[:, feat_cols_6], y_train)\n",
    "\n",
    "y_train_pred = clf.predict(X_train[:, feat_cols_6])\n",
    "print('Training accuracy on the 6 selected features: %.3f' % acc(y_train, y_train_pred))\n",
    "\n",
    "y_test_pred = clf.predict(X_test[:, feat_cols_6])\n",
    "print('Testing accuracy on the 6 selected features: %.3f' % acc(y_test, y_test_pred))"
   ]
  },
  {
   "cell_type": "markdown",
   "id": "3c1aed36",
   "metadata": {},
   "source": [
    "##### 12. Building a Random Forest model with all the features"
   ]
  },
  {
   "cell_type": "code",
   "execution_count": null,
   "id": "55504e4a",
   "metadata": {},
   "outputs": [],
   "source": [
    "# Build full model on ALL features, for comparison\n",
    "clf = RandomForestClassifier(n_estimators=1000, random_state=42, max_depth=4)\n",
    "clf.fit(X_train, y_train)\n",
    "\n",
    "y_train_pred = clf.predict(X_train)\n",
    "print('Training accuracy on all features: %.3f' % acc(y_train, y_train_pred))\n",
    "\n",
    "y_test_pred = clf.predict(X_test)\n",
    "print('Testing accuracy on all features: %.3f' % acc(y_test, y_test_pred))"
   ]
  },
  {
   "cell_type": "markdown",
   "id": "f25172a7",
   "metadata": {},
   "source": [
    "##### 13. Summary of Results"
   ]
  },
  {
   "cell_type": "code",
   "execution_count": null,
   "id": "b4aadf06",
   "metadata": {},
   "outputs": [],
   "source": [
    "SummaryMetrics=pd.DataFrame({'Train Accuracy':[0.559,0.563,0.566], 'Test Accuracy':[0.512,0.515,0.509]} ,  \n",
    "                   index = ['Best 5 features','Best 6 features','All the features'] )\n",
    "\n",
    "print(SummaryMetrics)"
   ]
  }
 ],
 "metadata": {
  "kernelspec": {
   "display_name": "Python 3 (ipykernel)",
   "language": "python",
   "name": "python3"
  },
  "language_info": {
   "codemirror_mode": {
    "name": "ipython",
    "version": 3
   },
   "file_extension": ".py",
   "mimetype": "text/x-python",
   "name": "python",
   "nbconvert_exporter": "python",
   "pygments_lexer": "ipython3",
   "version": "3.9.12"
  }
 },
 "nbformat": 4,
 "nbformat_minor": 5
}
