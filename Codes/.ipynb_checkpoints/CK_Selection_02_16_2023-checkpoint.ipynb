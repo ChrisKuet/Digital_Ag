{
 "cells": [
  {
   "cell_type": "markdown",
   "id": "2f735110",
   "metadata": {},
   "source": [
    "## Digital Agriculture Homework 3"
   ]
  },
  {
   "cell_type": "markdown",
   "id": "63bc7c4f",
   "metadata": {},
   "source": [
    "### Step Forward Feature Selection: A Practical Example in Python\n",
    "#### Implementing Feature Selection and Building a Model"
   ]
  },
  {
   "cell_type": "markdown",
   "id": "4c63d412",
   "metadata": {},
   "source": [
    "##### 1. Importing libraries and renaming"
   ]
  },
  {
   "cell_type": "code",
   "execution_count": 4,
   "id": "0026ae25",
   "metadata": {},
   "outputs": [],
   "source": [
    "# Importing libraries and renaming them\n",
    "import numpy as np\n",
    "import pandas as pd\n",
    "from sklearn.ensemble import RandomForestClassifier\n",
    "from sklearn.model_selection import train_test_split\n",
    "from sklearn.metrics import accuracy_score as acc\n",
    "from mlxtend.feature_selection import SequentialFeatureSelector as sfs\n",
    "import os"
   ]
  },
  {
   "cell_type": "markdown",
   "id": "75ef3e1d",
   "metadata": {},
   "source": [
    "##### 2. Specifying the data path and reading the data"
   ]
  },
  {
   "cell_type": "code",
   "execution_count": null,
   "id": "e634fa37",
   "metadata": {},
   "outputs": [],
   "source": [
    "# Read data\n",
    "npath=os.path.abspath(os.pardir)+\"\\\\Data\\winequality-white.csv\"\n",
    "df1=pd.read_csv(npath,sep=';')"
   ]
  },
  {
   "cell_type": "markdown",
   "id": "c83956b9",
   "metadata": {},
   "source": [
    "##### 3. A glimpse of the first 5 rows of the data"
   ]
  },
  {
   "cell_type": "code",
   "execution_count": null,
   "id": "dee0d9c7",
   "metadata": {},
   "outputs": [],
   "source": [
    "df1.head(5)"
   ]
  },
  {
   "cell_type": "markdown",
   "id": "86c769c1",
   "metadata": {},
   "source": [
    "##### 4. Summary statistics of the data and saving it as a csv file"
   ]
  },
  {
   "cell_type": "code",
   "execution_count": null,
   "id": "a9e3ab31",
   "metadata": {},
   "outputs": [],
   "source": [
    "df2=df1.describe()\n",
    "dpath=os.path.abspath(os.pardir)+\"\\\\Results\\CK_Description_02_16_2023.csv\"\n",
    "df2.to_csv(dpath)\n"
   ]
  },
  {
   "cell_type": "code",
   "execution_count": null,
   "id": "a63ac2ed",
   "metadata": {},
   "outputs": [],
   "source": [
    "# Train/test split\n",
    "X_train, X_test, y_train, y_test = train_test_split(\n",
    "    df.values[:,:-1],\n",
    "    df.values[:,-1:],\n",
    "    test_size=0.25,\n",
    "    random_state=42)\n",
    "\n",
    "y_train = y_train.ravel()\n",
    "y_test = y_test.ravel()\n",
    "\n",
    "print('Training dataset shape:', X_train.shape, y_train.shape)\n",
    "print('Testing dataset shape:', X_test.shape, y_test.shape)"
   ]
  },
  {
   "cell_type": "code",
   "execution_count": null,
   "id": "746f54b5",
   "metadata": {},
   "outputs": [],
   "source": [
    "# Build RF classifier to use in feature selection\n",
    "clf = RandomForestClassifier(n_estimators=100, n_jobs=-1)\n",
    "\n",
    "# Build step forward feature selection\n",
    "sfs1 = sfs(clf,\n",
    "           k_features=5,\n",
    "           forward=True,\n",
    "           floating=False,\n",
    "           verbose=2,\n",
    "           scoring='accuracy',\n",
    "           cv=5)\n",
    "\n",
    "# Perform SFFS\n",
    "sfs1 = sfs1.fit(X_train, y_train)"
   ]
  },
  {
   "cell_type": "code",
   "execution_count": null,
   "id": "d295270f",
   "metadata": {},
   "outputs": [],
   "source": [
    "# Which features?\n",
    "feat_cols = list(sfs1.k_feature_idx_)\n",
    "print(feat_cols)"
   ]
  },
  {
   "cell_type": "code",
   "execution_count": null,
   "id": "8df11451",
   "metadata": {},
   "outputs": [],
   "source": [
    "# Build full model with selected features\n",
    "clf = RandomForestClassifier(n_estimators=1000, random_state=42, max_depth=4)\n",
    "clf.fit(X_train[:, feat_cols], y_train)\n",
    "\n",
    "y_train_pred = clf.predict(X_train[:, feat_cols])\n",
    "print('Training accuracy on selected features: %.3f' % acc(y_train, y_train_pred))\n",
    "\n",
    "y_test_pred = clf.predict(X_test[:, feat_cols])\n",
    "print('Testing accuracy on selected features: %.3f' % acc(y_test, y_test_pred))"
   ]
  },
  {
   "cell_type": "code",
   "execution_count": null,
   "id": "55504e4a",
   "metadata": {},
   "outputs": [],
   "source": [
    "# Build full model on ALL features, for comparison\n",
    "clf = RandomForestClassifier(n_estimators=1000, random_state=42, max_depth=4)\n",
    "clf.fit(X_train, y_train)\n",
    "\n",
    "y_train_pred = clf.predict(X_train)\n",
    "print('Training accuracy on all features: %.3f' % acc(y_train, y_train_pred))\n",
    "\n",
    "y_test_pred = clf.predict(X_test)\n",
    "print('Testing accuracy on all features: %.3f' % acc(y_test, y_test_pred))"
   ]
  }
 ],
 "metadata": {
  "kernelspec": {
   "display_name": "Python 3 (ipykernel)",
   "language": "python",
   "name": "python3"
  },
  "language_info": {
   "codemirror_mode": {
    "name": "ipython",
    "version": 3
   },
   "file_extension": ".py",
   "mimetype": "text/x-python",
   "name": "python",
   "nbconvert_exporter": "python",
   "pygments_lexer": "ipython3",
   "version": "3.9.12"
  }
 },
 "nbformat": 4,
 "nbformat_minor": 5
}
